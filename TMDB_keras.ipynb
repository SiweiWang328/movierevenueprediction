{
 "cells": [
  {
   "cell_type": "markdown",
   "metadata": {},
   "source": [
    "# TMDB Movie Box Office Revenue Prediction Using Keras\n",
    "\n",
    "I'll use pre-trained word embeddings in a Keras model for predicting the TMDB movie box office revenue.\n",
    "Dataset from [Kaggle](https://www.kaggle.com/c/tmdb-box-office-prediction/data). \n",
    "\n",
    "- Categorize columns for data preprocessing in different type of features (binary, text, numerical, dictionary)\n",
    "- Build model\n",
    "\n",
    "Let's start."
   ]
  },
  {
   "cell_type": "code",
   "execution_count": 267,
   "metadata": {},
   "outputs": [],
   "source": [
    "import pandas as pd\n",
    "import keras\n",
    "import datetime\n",
    "import numpy as np\n",
    "import ast\n",
    "import sklearn\n",
    "from sklearn.model_selection import train_test_split\n",
    "from keras.callbacks import Callback\n",
    "from keras.callbacks import EarlyStopping"
   ]
  },
  {
   "cell_type": "code",
   "execution_count": 268,
   "metadata": {},
   "outputs": [
    {
     "data": {
      "text/plain": [
       "Index(['id', 'belongs_to_collection', 'budget', 'genres', 'homepage',\n",
       "       'imdb_id', 'original_language', 'original_title', 'overview',\n",
       "       'popularity', 'poster_path', 'production_companies',\n",
       "       'production_countries', 'release_date', 'runtime', 'spoken_languages',\n",
       "       'status', 'tagline', 'title', 'Keywords', 'cast', 'crew', 'revenue'],\n",
       "      dtype='object')"
      ]
     },
     "execution_count": 268,
     "metadata": {},
     "output_type": "execute_result"
    }
   ],
   "source": [
    "train_data = pd.read_csv(\"data/train.csv\")\n",
    "train_data.columns"
   ]
  },
  {
   "cell_type": "markdown",
   "metadata": {},
   "source": [
    "## categorize columns"
   ]
  },
  {
   "cell_type": "code",
   "execution_count": 269,
   "metadata": {},
   "outputs": [],
   "source": [
    "col_text = ['original_title', 'tagline', 'overview']\n",
    "\n",
    "col_numeric = ['budget', 'popularity', 'runtime']\n",
    "col_dicts = ['production_countries', 'production_companies', 'belongs_to_collection', 'genres', 'spoken_languages',\n",
    "             'Keywords', 'cast', 'crew']\n",
    "\n",
    "col_unwanted = ['poster_path', 'status', 'homepage', 'original_language']\n",
    "\n",
    "#col_binary = ['status', 'original_language', 'homepage']\n",
    "#status, original_language, homepage"
   ]
  },
  {
   "cell_type": "markdown",
   "metadata": {},
   "source": [
    "## functions"
   ]
  },
  {
   "cell_type": "code",
   "execution_count": 270,
   "metadata": {},
   "outputs": [],
   "source": [
    "#process variables convert to binary \n",
    "\n",
    "def process_binary(df):\n",
    "    \n",
    "    #process status\n",
    "    df['isMovieReleased'] = 1\n",
    "    df.loc[df['status'] != \"Released\" ,\"isMovieReleased\"] = 0\n",
    "    #df['isMovieReleased']= pd.to_numeric(df['isMovieReleased'])\n",
    "    \n",
    "    #process original language - EN as 1, non-EN as 0\n",
    "    df['isOriginalLanguageEng'] = 0 \n",
    "    df.loc[df['original_language'] == \"en\" ,\"isOriginalLanguageEng\"] = 1\n",
    "    #df['original_language'] = pd.to_numeric(df['original_language'])\n",
    "    \n",
    "    #convert homepage to 0 or 1, 0 means the movie doesn't have a homepage, otherwise 1.\n",
    "    df['has_homepage'] = 1\n",
    "    df.loc[pd.isnull(df['homepage']) ,\"has_homepage\"] = 0\n",
    "    #df[\"homepage\"] = pd.to_numeric(df[\"homepage\"])\n",
    "    \n",
    "#def process_all_binary_col(df):\n",
    "   # for col in col_binary:\n",
    "        #df[col] "
   ]
  },
  {
   "cell_type": "code",
   "execution_count": 271,
   "metadata": {},
   "outputs": [],
   "source": [
    "#power_six = train_data.id[train_data.budget > 1000][train_data.revenue < 100]\n",
    "\n",
    "#for k in power_six :\n",
    "    #train_data.loc[train_data['id'] == k,'revenue'] =  train_data.loc[train_data['id'] == k,'revenue'] * 1000000\n",
    "train_data.loc[train_data['id'] == 16,'revenue'] = 192864          # Skinning\n",
    "train_data.loc[train_data['id'] == 90,'budget'] = 30000000         # Sommersby          \n",
    "train_data.loc[train_data['id'] == 118,'budget'] = 60000000        # Wild Hogs\n",
    "train_data.loc[train_data['id'] == 149,'budget'] = 18000000        # Beethoven\n",
    "train_data.loc[train_data['id'] == 313,'revenue'] = 12000000       # The Cookout \n",
    "train_data.loc[train_data['id'] == 451,'revenue'] = 12000000       # Chasing Liberty\n",
    "train_data.loc[train_data['id'] == 464,'budget'] = 20000000        # Parenthood\n",
    "train_data.loc[train_data['id'] == 470,'budget'] = 13000000        # The Karate Kid, Part II\n",
    "train_data.loc[train_data['id'] == 513,'budget'] = 930000          # From Prada to Nada\n",
    "train_data.loc[train_data['id'] == 797,'budget'] = 8000000         # Welcome to Dongmakgol\n",
    "train_data.loc[train_data['id'] == 819,'budget'] = 90000000        # Alvin and the Chipmunks: The Road Chip\n",
    "train_data.loc[train_data['id'] == 850,'budget'] = 90000000        # Modern Times\n",
    "train_data.loc[train_data['id'] == 1007,'budget'] = 2              # Zyzzyx Road \n",
    "train_data.loc[train_data['id'] == 1112,'budget'] = 7500000        # An Officer and a Gentleman\n",
    "train_data.loc[train_data['id'] == 1131,'budget'] = 4300000        # Smokey and the Bandit   \n",
    "train_data.loc[train_data['id'] == 1359,'budget'] = 10000000       # Stir Crazy \n",
    "train_data.loc[train_data['id'] == 1542,'budget'] = 1              # All at Once\n",
    "train_data.loc[train_data['id'] == 1570,'budget'] = 15800000       # Crocodile Dundee II\n",
    "train_data.loc[train_data['id'] == 1571,'budget'] = 4000000        # Lady and the Tramp\n",
    "train_data.loc[train_data['id'] == 1714,'budget'] = 46000000       # The Recruit\n",
    "train_data.loc[train_data['id'] == 1721,'budget'] = 17500000       # Cocoon\n",
    "train_data.loc[train_data['id'] == 1865,'revenue'] = 25000000      # Scooby-Doo 2: Monsters Unleashed\n",
    "train_data.loc[train_data['id'] == 1885,'budget'] = 12             # In the Cut\n",
    "train_data.loc[train_data['id'] == 2091,'budget'] = 10             # Deadfall\n",
    "train_data.loc[train_data['id'] == 2268,'budget'] = 17500000       # Madea Goes to Jail budget\n",
    "train_data.loc[train_data['id'] == 2491,'budget'] = 6              # Never Talk to Strangers\n",
    "train_data.loc[train_data['id'] == 2602,'budget'] = 31000000       # Mr. Holland's Opus\n",
    "train_data.loc[train_data['id'] == 2612,'budget'] = 15000000       # Field of Dreams\n",
    "train_data.loc[train_data['id'] == 2696,'budget'] = 10000000       # Nurse 3-D\n",
    "train_data.loc[train_data['id'] == 2801,'budget'] = 10000000       # Fracture\n",
    "train_data.loc[train_data['id'] == 335,'budget'] = 2 \n",
    "train_data.loc[train_data['id'] == 348,'budget'] = 12\n",
    "train_data.loc[train_data['id'] == 470,'budget'] = 13000000 \n",
    "train_data.loc[train_data['id'] == 513,'budget'] = 1100000\n",
    "train_data.loc[train_data['id'] == 640,'budget'] = 6 \n",
    "train_data.loc[train_data['id'] == 696,'budget'] = 1\n",
    "train_data.loc[train_data['id'] == 797,'budget'] = 8000000 \n",
    "train_data.loc[train_data['id'] == 850,'budget'] = 1500000\n",
    "train_data.loc[train_data['id'] == 1199,'budget'] = 5 \n",
    "train_data.loc[train_data['id'] == 1282,'budget'] = 9               # Death at a Funeral\n",
    "train_data.loc[train_data['id'] == 1347,'budget'] = 1\n",
    "train_data.loc[train_data['id'] == 1755,'budget'] = 2\n",
    "train_data.loc[train_data['id'] == 1801,'budget'] = 5\n",
    "train_data.loc[train_data['id'] == 1918,'budget'] = 592 \n",
    "train_data.loc[train_data['id'] == 2033,'budget'] = 4\n",
    "train_data.loc[train_data['id'] == 2118,'budget'] = 344 \n",
    "train_data.loc[train_data['id'] == 2252,'budget'] = 130\n",
    "train_data.loc[train_data['id'] == 2256,'budget'] = 1 \n",
    "train_data.loc[train_data['id'] == 2696,'budget'] = 10000000"
   ]
  },
  {
   "cell_type": "code",
   "execution_count": 272,
   "metadata": {},
   "outputs": [],
   "source": [
    "# code age\n",
    "def process_age(df):\n",
    "    df['release_date'] = pd.to_datetime(df['release_date'], format='%m/%d/%y')\n",
    "    df['age'] = df['release_date'].map(lambda x: (datetime.datetime.utcnow() - x)/ np.timedelta64(1, 'D'))\n",
    "\n",
    "col_numeric.append('age')"
   ]
  },
  {
   "cell_type": "code",
   "execution_count": 273,
   "metadata": {},
   "outputs": [],
   "source": [
    "def process_dict(value:'str'):\n",
    "    names = []\n",
    "    try:\n",
    "        list_of_dict = ast.literal_eval(value)\n",
    "        if len(list_of_dict) > 0:\n",
    "            names = [x['name'] for x in list_of_dict]\n",
    "    except:\n",
    "        pass\n",
    "    return ' '.join(names)\n",
    "\n",
    "def process_all_dict_col(df):\n",
    "    for col in col_dicts:\n",
    "        df[col] = df[col].map(process_dict)\n",
    "\n",
    "def process_all_numeric_col(df):\n",
    "    for col in col_numeric:\n",
    "        df[col] = np.log(df[col]+1)        "
   ]
  },
  {
   "cell_type": "code",
   "execution_count": 274,
   "metadata": {},
   "outputs": [
    {
     "name": "stderr",
     "output_type": "stream",
     "text": [
      "/anaconda3/lib/python3.7/site-packages/ipykernel_launcher.py:17: RuntimeWarning: invalid value encountered in log\n"
     ]
    }
   ],
   "source": [
    "train_data.drop(axis=1, columns=col_unwanted)\n",
    "process_binary(train_data)\n",
    "process_age(train_data)        \n",
    "process_all_dict_col(train_data)\n",
    "process_all_numeric_col(train_data)\n",
    "col_numeric.append('isMovieReleased')\n",
    "col_numeric.append('isOriginalLanguageEng')\n",
    "col_numeric.append('has_homepage')"
   ]
  },
  {
   "cell_type": "code",
   "execution_count": 275,
   "metadata": {},
   "outputs": [
    {
     "data": {
      "text/plain": [
       "['budget',\n",
       " 'popularity',\n",
       " 'runtime',\n",
       " 'age',\n",
       " 'isMovieReleased',\n",
       " 'isOriginalLanguageEng',\n",
       " 'has_homepage']"
      ]
     },
     "execution_count": 275,
     "metadata": {},
     "output_type": "execute_result"
    }
   ],
   "source": [
    "col_numeric"
   ]
  },
  {
   "cell_type": "code",
   "execution_count": 276,
   "metadata": {},
   "outputs": [
    {
     "name": "stderr",
     "output_type": "stream",
     "text": [
      "/anaconda3/lib/python3.7/site-packages/ipykernel_launcher.py:2: FutureWarning: Method .as_matrix will be removed in a future version. Use .values instead.\n",
      "  \n"
     ]
    }
   ],
   "source": [
    "X_train_text = train_data[col_text + col_dicts].apply(lambda row: '  '.join(row.values.astype(str)), axis=1)\n",
    "X_train_num = train_data[col_numeric].as_matrix()"
   ]
  },
  {
   "cell_type": "code",
   "execution_count": 277,
   "metadata": {},
   "outputs": [],
   "source": [
    "X_train_num = np.nan_to_num(X_train_num)"
   ]
  },
  {
   "cell_type": "code",
   "execution_count": 278,
   "metadata": {},
   "outputs": [
    {
     "data": {
      "text/plain": [
       "(3000, 7)"
      ]
     },
     "execution_count": 278,
     "metadata": {},
     "output_type": "execute_result"
    }
   ],
   "source": [
    "X_train_num.shape"
   ]
  },
  {
   "cell_type": "code",
   "execution_count": 279,
   "metadata": {},
   "outputs": [],
   "source": [
    "y_train = np.array(train_data['revenue'])"
   ]
  },
  {
   "cell_type": "code",
   "execution_count": 280,
   "metadata": {},
   "outputs": [],
   "source": [
    "y_train_l = np.log(y_train+1) "
   ]
  },
  {
   "cell_type": "code",
   "execution_count": 281,
   "metadata": {},
   "outputs": [],
   "source": [
    "import pandas as pd\n",
    "import keras\n",
    "from keras.preprocessing import sequence, text\n",
    "from keras.models import Sequential\n",
    "from keras.layers import Dense\n",
    "from keras.layers import Dropout, Activation\n",
    "from keras.layers import GlobalAveragePooling1D, Conv1D, MaxPooling1D, Embedding\n",
    "from keras.datasets import imdb\n",
    "from keras.layers import Dense, Input, GlobalMaxPooling1D\n",
    "import pickle\n",
    "from keras import backend as K"
   ]
  },
  {
   "cell_type": "code",
   "execution_count": 338,
   "metadata": {},
   "outputs": [],
   "source": [
    "max_features = 10000\n",
    "embedding_dims = 300\n",
    "nb_epoch = 10\n",
    "batch_size = 120\n",
    "maxlen = 300"
   ]
  },
  {
   "cell_type": "code",
   "execution_count": 283,
   "metadata": {},
   "outputs": [],
   "source": [
    "# Train and save a tokenizer\n",
    "a_tokenizer = text.Tokenizer(num_words = max_features)\n",
    "a_tokenizer.fit_on_texts(X_train_text)\n",
    "pickle.dump(a_tokenizer, file=open(\"model/tokenizer.mod\", \"bw\"))"
   ]
  },
  {
   "cell_type": "code",
   "execution_count": 161,
   "metadata": {},
   "outputs": [],
   "source": [
    "# # Use pre-trained Glove embeddings\n",
    "# embeddings_index = dict()\n",
    "# f = open('data/word_embedding/glove.840B.300d.txt', errors = 'ignore', encoding='utf8')\n",
    "# for line in f:\n",
    "#     values = line.split()\n",
    "#     word = ''.join(values[:-300])\n",
    "#     coefs = np.asarray(values[-300:], dtype='float32')\n",
    "#     embeddings_index[word] = coefs\n",
    "# f.close()\n",
    "\n",
    "# embedding_matrix = np.zeros((max_features, embedding_dims))\n",
    "# for word, index in a_tokenizer.word_index.items():\n",
    "#     if index > max_features - 1:\n",
    "#         break\n",
    "#     else:\n",
    "#         embedding_vector = embeddings_index.get(word)\n",
    "#         if embedding_vector is not None:\n",
    "#             embedding_matrix[index] = embedding_vector"
   ]
  },
  {
   "cell_type": "code",
   "execution_count": 234,
   "metadata": {},
   "outputs": [],
   "source": [
    "# np.save(open(\"model/embedding.np\", \"wb\"), embedding_matrix)"
   ]
  },
  {
   "cell_type": "code",
   "execution_count": 284,
   "metadata": {},
   "outputs": [],
   "source": [
    "embedding_matrix = np.load(open(\"model/embedding.np\", \"rb\"))"
   ]
  },
  {
   "cell_type": "code",
   "execution_count": 285,
   "metadata": {},
   "outputs": [],
   "source": [
    "X_train_text_proccessed = a_tokenizer.texts_to_sequences(X_train_text)\n",
    "X_train_text_proccessed = sequence.pad_sequences(X_train_text_proccessed, maxlen=maxlen)"
   ]
  },
  {
   "cell_type": "code",
   "execution_count": 286,
   "metadata": {},
   "outputs": [],
   "source": [
    "all_index = X_train_text.index.tolist()\n",
    "split = train_test_split(all_index, train_size = 0.8, random_state=1)\n",
    "train_index = split[0]\n",
    "test_index = split[1]"
   ]
  },
  {
   "cell_type": "code",
   "execution_count": 339,
   "metadata": {},
   "outputs": [],
   "source": [
    "def root_mean_squared_error(y_true, y_pred):\n",
    "    return K.sqrt(K.mean(K.square(y_pred - y_true)))\n",
    "\n",
    "def create_model_merge_model():\n",
    "    '''\n",
    "    New API\n",
    "    '''\n",
    "    word_input_layer = Input(shape=(None, ), dtype='int32')\n",
    "    word_output_layer = Embedding(\n",
    "        input_dim=max_features,\n",
    "        output_dim=embedding_dims,\n",
    "        weights=[embedding_matrix],\n",
    "        trainable=True)(word_input_layer)\n",
    "    #pool_layer1 = GlobalAveragePooling1D()(word_output_layer)\n",
    "    \n",
    "    cov_1 = Conv1D(\n",
    "    filters=500,\n",
    "    kernel_size=3,\n",
    "    padding='valid',\n",
    "    activation='relu',\n",
    "    strides=1)(word_output_layer)\n",
    "\n",
    "    pool_layer1 = GlobalMaxPooling1D()(cov_1)\n",
    "    txt_dense1 = Dense(16)(pool_layer1)\n",
    "    txt_dense2 = Dense(8)(txt_dense1)\n",
    "\n",
    "    num_input = Input(shape = (len(col_numeric), ), name = 'num_input')\n",
    "    num_dense1 = Dense(2, input_dim=len(col_numeric), kernel_initializer='normal', activation='relu')(num_input)\n",
    "\n",
    "    added = keras.layers.concatenate([txt_dense2, num_dense1])  # equivalent to added = keras.layers.add([x1, x2])\n",
    "\n",
    "    main_output =  Dense(1, activation='linear', name='main_output')(added)\n",
    "    model = keras.Model(inputs=[word_input_layer, num_input], outputs=main_output)\n",
    "\n",
    "    model.compile(loss=root_mean_squared_error,\n",
    "                      optimizer='sgd',\n",
    "                      metrics=[root_mean_squared_error])\n",
    "    return model\n",
    "\n"
   ]
  },
  {
   "cell_type": "code",
   "execution_count": 340,
   "metadata": {},
   "outputs": [],
   "source": [
    "model = create_model_merge_model()"
   ]
  },
  {
   "cell_type": "code",
   "execution_count": 341,
   "metadata": {},
   "outputs": [
    {
     "name": "stdout",
     "output_type": "stream",
     "text": [
      "Train on 2400 samples, validate on 600 samples\n",
      "Epoch 1/10\n",
      "2400/2400 [==============================] - 31s 13ms/step - loss: 6.1959 - root_mean_squared_error: 6.1959 - val_loss: 5.2057 - val_root_mean_squared_error: 5.2057\n",
      "Epoch 2/10\n",
      "2400/2400 [==============================] - 31s 13ms/step - loss: 4.3456 - root_mean_squared_error: 4.3456 - val_loss: 3.4268 - val_root_mean_squared_error: 3.4268\n",
      "Epoch 3/10\n",
      "2400/2400 [==============================] - 31s 13ms/step - loss: 4.1379 - root_mean_squared_error: 4.1379 - val_loss: 2.6389 - val_root_mean_squared_error: 2.6389\n",
      "Epoch 4/10\n",
      "2400/2400 [==============================] - 30s 13ms/step - loss: 3.8874 - root_mean_squared_error: 3.8874 - val_loss: 2.7949 - val_root_mean_squared_error: 2.7949\n",
      "Epoch 5/10\n",
      "2400/2400 [==============================] - 30s 13ms/step - loss: 3.7480 - root_mean_squared_error: 3.7480 - val_loss: 2.6219 - val_root_mean_squared_error: 2.6219\n",
      "Epoch 6/10\n",
      "2400/2400 [==============================] - 30s 12ms/step - loss: 3.5908 - root_mean_squared_error: 3.5908 - val_loss: 2.9640 - val_root_mean_squared_error: 2.9640\n",
      "Epoch 7/10\n",
      "2400/2400 [==============================] - 30s 13ms/step - loss: 3.4098 - root_mean_squared_error: 3.4098 - val_loss: 3.3680 - val_root_mean_squared_error: 3.3680\n",
      "Epoch 8/10\n",
      "2400/2400 [==============================] - 30s 12ms/step - loss: 3.4922 - root_mean_squared_error: 3.4922 - val_loss: 2.6168 - val_root_mean_squared_error: 2.6168\n",
      "Epoch 9/10\n",
      "2400/2400 [==============================] - 29s 12ms/step - loss: 3.3219 - root_mean_squared_error: 3.3219 - val_loss: 2.8297 - val_root_mean_squared_error: 2.8297\n",
      "Epoch 10/10\n",
      "2400/2400 [==============================] - 30s 12ms/step - loss: 3.2300 - root_mean_squared_error: 3.2300 - val_loss: 2.8859 - val_root_mean_squared_error: 2.8859\n"
     ]
    }
   ],
   "source": [
    "history = model.fit([X_train_text_proccessed[train_index],\n",
    "           X_train_num[train_index]], \n",
    "          y_train_l[train_index],\n",
    "          batch_size=batch_size, epochs=nb_epoch, verbose = True, validation_data=([X_train_text_proccessed[test_index], \n",
    "                                            X_train_num[test_index]], y_train_l[test_index]))"
   ]
  },
  {
   "cell_type": "code",
   "execution_count": 316,
   "metadata": {},
   "outputs": [],
   "source": [
    "from keras.utils import plot_model"
   ]
  },
  {
   "cell_type": "code",
   "execution_count": 326,
   "metadata": {},
   "outputs": [],
   "source": [
    "import keras\n",
    "import pydotplus\n",
    "from keras.utils.vis_utils import model_to_dot\n",
    "keras.utils.vis_utils.pydot = pydot\n",
    "\n",
    "plot_model(model, to_file='model.png',rankdir='TB',show_layer_names=False)"
   ]
  },
  {
   "cell_type": "code",
   "execution_count": 342,
   "metadata": {},
   "outputs": [
    {
     "data": {
      "image/png": "[encoded data removed]",
      "text/plain": [
       "<Figure size 432x288 with 1 Axes>"
      ]
     },
     "metadata": {
      "needs_background": "light"
     },
     "output_type": "display_data"
    }
   ],
   "source": [
    "import matplotlib.pyplot as plt\n",
    "plt.plot(history.history['loss'])\n",
    "plt.plot(history.history['val_loss'])\n",
    "plt.title('model loss')\n",
    "plt.ylabel('loss')\n",
    "plt.xlabel('epoch')\n",
    "plt.legend(['train', 'test'], loc='upper left')\n",
    "plt.show()"
   ]
  },
  {
   "cell_type": "markdown",
   "metadata": {},
   "source": [
    "# Apply model to submission data"
   ]
  },
  {
   "cell_type": "code",
   "execution_count": 343,
   "metadata": {},
   "outputs": [
    {
     "name": "stdout",
     "output_type": "stream",
     "text": [
      "Epoch 1/3\n",
      "3000/3000 [==============================] - 39s 13ms/step - loss: 5.4219 - root_mean_squared_error: 5.4219\n",
      "Epoch 2/3\n",
      "3000/3000 [==============================] - 42s 14ms/step - loss: 4.2169 - root_mean_squared_error: 4.2169\n",
      "Epoch 3/3\n",
      "3000/3000 [==============================] - 42s 14ms/step - loss: 3.8099 - root_mean_squared_error: 3.8099\n"
     ]
    },
    {
     "data": {
      "text/plain": [
       "<keras.callbacks.History at 0x1a57593748>"
      ]
     },
     "execution_count": 343,
     "metadata": {},
     "output_type": "execute_result"
    }
   ],
   "source": [
    "model = create_model_merge_model()\n",
    "\n",
    "model.fit([X_train_text_proccessed,\n",
    "           X_train_num], \n",
    "          y_train_l,\n",
    "          batch_size=batch_size, epochs=3, verbose = True)"
   ]
  },
  {
   "cell_type": "code",
   "execution_count": 291,
   "metadata": {},
   "outputs": [],
   "source": [
    "submission = pd.read_csv(\"data/test.csv\")"
   ]
  },
  {
   "cell_type": "code",
   "execution_count": 292,
   "metadata": {},
   "outputs": [],
   "source": [
    "submission.loc[submission['id'] == 6733,'budget'] = 5000000\n",
    "submission.loc[submission['id'] == 3889,'budget'] = 15000000\n",
    "submission.loc[submission['id'] == 6683,'budget'] = 50000000\n",
    "submission.loc[submission['id'] == 5704,'budget'] = 4300000\n",
    "submission.loc[submission['id'] == 6109,'budget'] = 281756\n",
    "submission.loc[submission['id'] == 7242,'budget'] = 10000000\n",
    "submission.loc[submission['id'] == 7021,'budget'] = 17540562       #  Two Is a Family\n",
    "submission.loc[submission['id'] == 5591,'budget'] = 4000000        # The Orphanage\n",
    "submission.loc[submission['id'] == 4282,'budget'] = 20000000       # Big Top Pee-wee\n",
    "submission.loc[submission['id'] == 3033,'budget'] = 250 \n",
    "submission.loc[submission['id'] == 3051,'budget'] = 50\n",
    "submission.loc[submission['id'] == 3084,'budget'] = 337\n",
    "submission.loc[submission['id'] == 3224,'budget'] = 4  \n",
    "submission.loc[submission['id'] == 3594,'budget'] = 25  \n",
    "submission.loc[submission['id'] == 3619,'budget'] = 500  \n",
    "submission.loc[submission['id'] == 3831,'budget'] = 3  \n",
    "submission.loc[submission['id'] == 3935,'budget'] = 500  \n",
    "submission.loc[submission['id'] == 4049,'budget'] = 995946 \n",
    "submission.loc[submission['id'] == 4424,'budget'] = 3  \n",
    "submission.loc[submission['id'] == 4460,'budget'] = 8  \n",
    "submission.loc[submission['id'] == 4555,'budget'] = 1200000 \n",
    "submission.loc[submission['id'] == 4624,'budget'] = 30 \n",
    "submission.loc[submission['id'] == 4645,'budget'] = 500 \n",
    "submission.loc[submission['id'] == 4709,'budget'] = 450 \n",
    "submission.loc[submission['id'] == 4839,'budget'] = 7\n",
    "submission.loc[submission['id'] == 3125,'budget'] = 25 \n",
    "submission.loc[submission['id'] == 3142,'budget'] = 1\n",
    "submission.loc[submission['id'] == 3201,'budget'] = 450\n",
    "submission.loc[submission['id'] == 3222,'budget'] = 6\n",
    "submission.loc[submission['id'] == 3545,'budget'] = 38\n",
    "submission.loc[submission['id'] == 3670,'budget'] = 18\n",
    "submission.loc[submission['id'] == 3792,'budget'] = 19\n",
    "submission.loc[submission['id'] == 3881,'budget'] = 7\n",
    "submission.loc[submission['id'] == 3969,'budget'] = 400\n",
    "submission.loc[submission['id'] == 4196,'budget'] = 6\n",
    "submission.loc[submission['id'] == 4221,'budget'] = 11\n",
    "submission.loc[submission['id'] == 4222,'budget'] = 500\n",
    "submission.loc[submission['id'] == 4285,'budget'] = 11\n",
    "submission.loc[submission['id'] == 4319,'budget'] = 1\n",
    "submission.loc[submission['id'] == 4639,'budget'] = 10\n",
    "submission.loc[submission['id'] == 4719,'budget'] = 45\n",
    "submission.loc[submission['id'] == 4822,'budget'] = 22\n",
    "submission.loc[submission['id'] == 4829,'budget'] = 20\n",
    "submission.loc[submission['id'] == 4969,'budget'] = 20\n",
    "submission.loc[submission['id'] == 5021,'budget'] = 40 \n",
    "submission.loc[submission['id'] == 5035,'budget'] = 1 \n",
    "submission.loc[submission['id'] == 5063,'budget'] = 14 \n",
    "submission.loc[submission['id'] == 5119,'budget'] = 2 \n",
    "submission.loc[submission['id'] == 5214,'budget'] = 30 \n",
    "submission.loc[submission['id'] == 5221,'budget'] = 50 \n",
    "submission.loc[submission['id'] == 4903,'budget'] = 15\n",
    "submission.loc[submission['id'] == 4983,'budget'] = 3\n",
    "submission.loc[submission['id'] == 5102,'budget'] = 28\n",
    "submission.loc[submission['id'] == 5217,'budget'] = 75\n",
    "submission.loc[submission['id'] == 5224,'budget'] = 3 \n",
    "submission.loc[submission['id'] == 5469,'budget'] = 20 \n",
    "submission.loc[submission['id'] == 5840,'budget'] = 1 \n",
    "submission.loc[submission['id'] == 5960,'budget'] = 30\n",
    "submission.loc[submission['id'] == 6506,'budget'] = 11 \n",
    "submission.loc[submission['id'] == 6553,'budget'] = 280\n",
    "submission.loc[submission['id'] == 6561,'budget'] = 7\n",
    "submission.loc[submission['id'] == 6582,'budget'] = 218\n",
    "submission.loc[submission['id'] == 6638,'budget'] = 5\n",
    "submission.loc[submission['id'] == 6749,'budget'] = 8 \n",
    "submission.loc[submission['id'] == 6759,'budget'] = 50 \n",
    "submission.loc[submission['id'] == 6856,'budget'] = 10\n",
    "submission.loc[submission['id'] == 6858,'budget'] =  100\n",
    "submission.loc[submission['id'] == 6876,'budget'] =  250\n",
    "submission.loc[submission['id'] == 6972,'budget'] = 1\n",
    "submission.loc[submission['id'] == 7079,'budget'] = 8000000\n",
    "submission.loc[submission['id'] == 7150,'budget'] = 118\n",
    "submission.loc[submission['id'] == 6506,'budget'] = 118\n",
    "submission.loc[submission['id'] == 7225,'budget'] = 6\n",
    "submission.loc[submission['id'] == 7231,'budget'] = 85\n",
    "submission.loc[submission['id'] == 5222,'budget'] = 5\n",
    "submission.loc[submission['id'] == 5322,'budget'] = 90\n",
    "submission.loc[submission['id'] == 5350,'budget'] = 70\n",
    "submission.loc[submission['id'] == 5378,'budget'] = 10\n",
    "submission.loc[submission['id'] == 5545,'budget'] = 80\n",
    "submission.loc[submission['id'] == 5810,'budget'] = 8\n",
    "submission.loc[submission['id'] == 5926,'budget'] = 300\n",
    "submission.loc[submission['id'] == 5927,'budget'] = 4\n",
    "submission.loc[submission['id'] == 5986,'budget'] = 1\n",
    "submission.loc[submission['id'] == 6053,'budget'] = 20\n",
    "submission.loc[submission['id'] == 6104,'budget'] = 1\n",
    "submission.loc[submission['id'] == 6130,'budget'] = 30\n",
    "submission.loc[submission['id'] == 6301,'budget'] = 150\n",
    "submission.loc[submission['id'] == 6276,'budget'] = 100\n",
    "submission.loc[submission['id'] == 6473,'budget'] = 100\n",
    "submission.loc[submission['id'] == 6842,'budget'] = 30"
   ]
  },
  {
   "cell_type": "code",
   "execution_count": 293,
   "metadata": {},
   "outputs": [
    {
     "name": "stderr",
     "output_type": "stream",
     "text": [
      "/anaconda3/lib/python3.7/site-packages/ipykernel_launcher.py:17: RuntimeWarning: invalid value encountered in log\n"
     ]
    }
   ],
   "source": [
    "submission.drop(axis=1, columns=col_unwanted)\n",
    "process_age(submission)\n",
    "process_binary(submission)\n",
    "process_all_dict_col(submission)\n",
    "process_all_numeric_col(submission)\n",
    "\n",
    "#col_numeric.append('isMovieReleased')\n",
    "#col_numeric.append('isOriginalLanguageEng')\n",
    "#col_numeric.append('has_homepage')"
   ]
  },
  {
   "cell_type": "code",
   "execution_count": 294,
   "metadata": {},
   "outputs": [
    {
     "name": "stderr",
     "output_type": "stream",
     "text": [
      "/anaconda3/lib/python3.7/site-packages/ipykernel_launcher.py:2: FutureWarning: Method .as_matrix will be removed in a future version. Use .values instead.\n",
      "  \n"
     ]
    }
   ],
   "source": [
    "X_submission_text = submission[col_text + col_dicts].apply(lambda row: '  '.join(row.values.astype(str)), axis=1)\n",
    "X_submission_num = submission[col_numeric].as_matrix()"
   ]
  },
  {
   "cell_type": "code",
   "execution_count": 295,
   "metadata": {},
   "outputs": [],
   "source": [
    "X_submission_num = np.nan_to_num(X_submission_num)"
   ]
  },
  {
   "cell_type": "code",
   "execution_count": 296,
   "metadata": {},
   "outputs": [],
   "source": [
    "X_submission_text_proccessed = a_tokenizer.texts_to_sequences(X_submission_text)\n",
    "X_submission_text_proccessed = sequence.pad_sequences(X_submission_text_proccessed, maxlen=maxlen)"
   ]
  },
  {
   "cell_type": "code",
   "execution_count": 297,
   "metadata": {},
   "outputs": [
    {
     "data": {
      "text/plain": [
       "(4398, 300)"
      ]
     },
     "execution_count": 297,
     "metadata": {},
     "output_type": "execute_result"
    }
   ],
   "source": [
    "X_submission_text_proccessed.shape"
   ]
  },
  {
   "cell_type": "code",
   "execution_count": 298,
   "metadata": {},
   "outputs": [
    {
     "data": {
      "text/plain": [
       "(4398, 7)"
      ]
     },
     "execution_count": 298,
     "metadata": {},
     "output_type": "execute_result"
    }
   ],
   "source": [
    "X_submission_num.shape"
   ]
  },
  {
   "cell_type": "code",
   "execution_count": 299,
   "metadata": {},
   "outputs": [],
   "source": [
    "y_submission = model.predict([X_submission_text_proccessed, X_submission_num])"
   ]
  },
  {
   "cell_type": "code",
   "execution_count": 300,
   "metadata": {},
   "outputs": [
    {
     "data": {
      "text/plain": [
       "array([[10.56096  ],\n",
       "       [10.9068365],\n",
       "       [11.330333 ],\n",
       "       ...,\n",
       "       [11.9199915],\n",
       "       [11.717591 ],\n",
       "       [10.806519 ]], dtype=float32)"
      ]
     },
     "execution_count": 300,
     "metadata": {},
     "output_type": "execute_result"
    }
   ],
   "source": [
    "y_submission"
   ]
  },
  {
   "cell_type": "code",
   "execution_count": 301,
   "metadata": {},
   "outputs": [],
   "source": [
    "y_submission = np.exp(y_submission)"
   ]
  },
  {
   "cell_type": "code",
   "execution_count": 302,
   "metadata": {},
   "outputs": [],
   "source": [
    "submission_df = pd.DataFrame({'id':submission['id'].values, \n",
    "                              'revenue': y_submission.transpose()[0].tolist()})"
   ]
  },
  {
   "cell_type": "code",
   "execution_count": 303,
   "metadata": {},
   "outputs": [],
   "source": [
    "submission_df.to_csv(\"data/submission_6.csv\", index=False)"
   ]
  },
  {
   "cell_type": "code",
   "execution_count": 304,
   "metadata": {},
   "outputs": [
    {
     "data": {
      "text/html": [
       "<div>\n",
       "<style scoped>\n",
       "    .dataframe tbody tr th:only-of-type {\n",
       "        vertical-align: middle;\n",
       "    }\n",
       "\n",
       "    .dataframe tbody tr th {\n",
       "        vertical-align: top;\n",
       "    }\n",
       "\n",
       "    .dataframe thead th {\n",
       "        text-align: right;\n",
       "    }\n",
       "</style>\n",
       "<table border=\"1\" class=\"dataframe\">\n",
       "  <thead>\n",
       "    <tr style=\"text-align: right;\">\n",
       "      <th></th>\n",
       "      <th>id</th>\n",
       "      <th>revenue</th>\n",
       "    </tr>\n",
       "  </thead>\n",
       "  <tbody>\n",
       "    <tr>\n",
       "      <th>0</th>\n",
       "      <td>3001</td>\n",
       "      <td>38598.156250</td>\n",
       "    </tr>\n",
       "    <tr>\n",
       "      <th>1</th>\n",
       "      <td>3002</td>\n",
       "      <td>54548.011719</td>\n",
       "    </tr>\n",
       "    <tr>\n",
       "      <th>2</th>\n",
       "      <td>3003</td>\n",
       "      <td>83310.742188</td>\n",
       "    </tr>\n",
       "    <tr>\n",
       "      <th>3</th>\n",
       "      <td>3004</td>\n",
       "      <td>175964.281250</td>\n",
       "    </tr>\n",
       "    <tr>\n",
       "      <th>4</th>\n",
       "      <td>3005</td>\n",
       "      <td>59584.035156</td>\n",
       "    </tr>\n",
       "  </tbody>\n",
       "</table>\n",
       "</div>"
      ],
      "text/plain": [
       "     id        revenue\n",
       "0  3001   38598.156250\n",
       "1  3002   54548.011719\n",
       "2  3003   83310.742188\n",
       "3  3004  175964.281250\n",
       "4  3005   59584.035156"
      ]
     },
     "execution_count": 304,
     "metadata": {},
     "output_type": "execute_result"
    }
   ],
   "source": [
    "submission_df.head()"
   ]
  },
  {
   "cell_type": "code",
   "execution_count": 265,
   "metadata": {},
   "outputs": [
    {
     "data": {
      "text/plain": [
       "['',\n",
       " '  0%|          | 0.00/70.4k [00:00<?, ?B/s]',\n",
       " ' 11%|█▏        | 8.00k/70.4k [00:00<00:00, 80.9kB/s]',\n",
       " '100%|██████████| 70.4k/70.4k [00:01<00:00, 52.8kB/s]',\n",
       " 'Successfully submitted to TMDB Box Office Prediction']"
      ]
     },
     "execution_count": 265,
     "metadata": {},
     "output_type": "execute_result"
    }
   ],
   "source": [
    "!! kaggle competitions submit -c tmdb-box-office-prediction -f \"data/submission_6.csv\" -m \"submission 6\""
   ]
  }
 ],
 "metadata": {
  "kernelspec": {
   "display_name": "Python 3",
   "language": "python",
   "name": "python3"
  },
  "language_info": {
   "codemirror_mode": {
    "name": "ipython",
    "version": 3
   },
   "file_extension": ".py",
   "mimetype": "text/x-python",
   "name": "python",
   "nbconvert_exporter": "python",
   "pygments_lexer": "ipython3",
   "version": "3.7.1"
  },
  "toc": {
   "base_numbering": 1,
   "nav_menu": {},
   "number_sections": true,
   "sideBar": true,
   "skip_h1_title": false,
   "title_cell": "Table of Contents",
   "title_sidebar": "Contents",
   "toc_cell": false,
   "toc_position": {},
   "toc_section_display": true,
   "toc_window_display": false
  }
 },
 "nbformat": 4,
 "nbformat_minor": 2
}
